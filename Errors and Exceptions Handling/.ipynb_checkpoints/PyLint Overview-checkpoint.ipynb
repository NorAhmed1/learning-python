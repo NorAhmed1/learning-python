{
 "cells": [
  {
   "cell_type": "markdown",
   "metadata": {},
   "source": [
    "Unit Testing¶\n",
    "- Equally important as writing good code is writing good tests. Better to find bugs yourself than have them reported to you by end users!\n",
    "\n",
    "- For this section we'll be working with files outside the notebook. We'll save our code to a .py file, and then save our test script to another .py file. Normally we would code these files using a text editor like Brackets or Atom, or inside an IDE like Spyder or Pycharm. But, since we're here, let's use Jupyter!\n",
    "\n",
    "- Recall that with some IPython magic we can write the contents of a cell to a file using %%writefile.\n",
    "- Something we haven't seen yet; you can run terminal commands from a jupyter cell using !\n",
    "\n",
    "- Testing tools\n",
    "-- There are dozens of good testing libraries out there. Most are third-party packages that require an install, such as:\n",
    "\n",
    "   pylint\n",
    "   \n",
    "   pyflakes\n",
    "  \n",
    "   pep8\n",
    "   \n",
    "   \n",
    "- These are simple tools that merely look at your code, and they'll tell you if there are style issues or simple problems like variable names being called before assignment.\n",
    "\n",
    "- A far better way to test your code is to write tests that send sample data to your program, and compare what's returned to a desired outcome.\n",
    "\n",
    "- Two such tools are available from the standard library:\n",
    "\n",
    "    unittest\n",
    "    \n",
    "    doctest"
   ]
  }
 ],
 "metadata": {
  "kernelspec": {
   "display_name": "Python 3",
   "language": "python",
   "name": "python3"
  },
  "language_info": {
   "codemirror_mode": {
    "name": "ipython",
    "version": 3
   },
   "file_extension": ".py",
   "mimetype": "text/x-python",
   "name": "python",
   "nbconvert_exporter": "python",
   "pygments_lexer": "ipython3",
   "version": "3.7.1"
  }
 },
 "nbformat": 4,
 "nbformat_minor": 2
}
