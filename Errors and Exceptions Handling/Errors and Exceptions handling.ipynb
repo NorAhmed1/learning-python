{
 "cells": [
  {
   "cell_type": "markdown",
   "metadata": {},
   "source": [
    "- Errors are bound to happen in your code!\n",
    "- Especially when someone else ends up using it in an unexpected way\n",
    "- We can use error handling to attempt to plan for possible errors\n",
    "- For example, a user may try to write to a file that was only opened in mode = 'r'\n",
    "- Currently, if there is any type of error in your code, the entire script will stop.\n",
    "- We can use Error Handling to let the script continue with other code, even if there is an error\n",
    "\n",
    "Keywords:\n",
    "- try: this block of code to be attempted (may lead to an error)\n",
    "- except: Block of code will execute in case there is an error in try block\n",
    "- A final block of code to be executed regardless of an error."
   ]
  },
  {
   "cell_type": "code",
   "execution_count": null,
   "metadata": {},
   "outputs": [],
   "source": [
    "def add(n1, n2):\n",
    "    print(n1+n2)"
   ]
  },
  {
   "cell_type": "code",
   "execution_count": null,
   "metadata": {},
   "outputs": [],
   "source": [
    "add(1, 2)"
   ]
  },
  {
   "cell_type": "code",
   "execution_count": null,
   "metadata": {},
   "outputs": [],
   "source": [
    "number1 = input('Please enter a number: ')"
   ]
  },
  {
   "cell_type": "code",
   "execution_count": null,
   "metadata": {},
   "outputs": [],
   "source": [
    "add(1,number1)"
   ]
  },
  {
   "cell_type": "code",
   "execution_count": null,
   "metadata": {},
   "outputs": [],
   "source": [
    "try:\n",
    "    #want to attempt but may have an error\n",
    "    result = 10 + 10\n",
    "except:\n",
    "    print('Unsupported operation, different objects')\n",
    "else:\n",
    "    print(\"Add went well!\")\n",
    "    print(result)"
   ]
  },
  {
   "cell_type": "code",
   "execution_count": 2,
   "metadata": {},
   "outputs": [],
   "source": [
    "def ask_for_int():\n",
    "    while True:\n",
    "        try:\n",
    "            result = int(input('Enter number: '))\n",
    "            print(result)\n",
    "        except:\n",
    "            print('not a number, please enter valid number')\n",
    "            continue\n",
    "        else:\n",
    "            print('Thank you')\n",
    "            break\n",
    "#         finally:\n",
    "#             print(\"I'll always run\")"
   ]
  },
  {
   "cell_type": "code",
   "execution_count": 4,
   "metadata": {},
   "outputs": [
    {
     "name": "stdout",
     "output_type": "stream",
     "text": [
      "Enter number: a\n",
      "not a number, please enter valid number\n",
      "Enter number: v\n",
      "not a number, please enter valid number\n",
      "Enter number: 4\n",
      "4\n",
      "Thank you\n"
     ]
    }
   ],
   "source": [
    "ask_for_int()"
   ]
  }
 ],
 "metadata": {
  "kernelspec": {
   "display_name": "Python 3",
   "language": "python",
   "name": "python3"
  },
  "language_info": {
   "codemirror_mode": {
    "name": "ipython",
    "version": 3
   },
   "file_extension": ".py",
   "mimetype": "text/x-python",
   "name": "python",
   "nbconvert_exporter": "python",
   "pygments_lexer": "ipython3",
   "version": "3.7.1"
  }
 },
 "nbformat": 4,
 "nbformat_minor": 2
}
