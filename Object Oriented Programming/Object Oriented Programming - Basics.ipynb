{
 "cells": [
  {
   "cell_type": "markdown",
   "metadata": {},
   "source": [
    "- Object Oriented Programming allows programmers to create their own objects that have methods and attributes.\n",
    "\n",
    "- Recall that after defining a string, list, dict, or other objects, you were able to call methods off of them with the .method_name() syntax.\n",
    "\n",
    "- These methods act as functions that use information about the object, as well as the object itself to return results or change the current object.\n",
    "\n",
    "- For example this includes appending to a list, or counting the occurences of an element in a tuple.\n",
    "\n",
    "- OOP allows users to create their own objects.\n",
    "\n",
    "- The general format is often confusing when first enocuntered its usefuless may not be completely clear at first.\n",
    "\n",
    "- In general, OOP allows us to create code that is repeatable and organised.\n",
    "\n",
    "- For much larger scripts of Python code, functions by themselves aren't enough for organisation and repeatability.\n",
    "\n",
    "- Commonly repeated tasks and objects can be defined with OOP to create code that is more usable. Let's check out the syntax.\n",
    "\n",
    "class NameOfClass():\n",
    "\n",
    "def _init_(self, param1, param2):\n",
    "\n",
    "    self.param1 = param1\n",
    "    self.param2 = param2\n",
    "\n",
    "def some_method(self):\n",
    "\n",
    "    print(self.param1)"
   ]
  },
  {
   "cell_type": "code",
   "execution_count": 25,
   "metadata": {},
   "outputs": [],
   "source": [
    "class Dog():\n",
    "    \n",
    "    #Class Object Attriubte\n",
    "    #Same for any instance of a class\n",
    "    species = 'mammal'\n",
    "    \n",
    "    def __init__(self, breed, name, spots):\n",
    "        #Attributes\n",
    "        self.breed = breed\n",
    "        self.name = name\n",
    "        \n",
    "        #expect a boolean True/False\n",
    "        self.spots = spots\n",
    "        \n",
    "    def speak(self):\n",
    "        return self.name + ' says Woof!'"
   ]
  }
 ],
 "metadata": {
  "kernelspec": {
   "display_name": "Python 3",
   "language": "python",
   "name": "python3"
  },
  "language_info": {
   "codemirror_mode": {
    "name": "ipython",
    "version": 3
   },
   "file_extension": ".py",
   "mimetype": "text/x-python",
   "name": "python",
   "nbconvert_exporter": "python",
   "pygments_lexer": "ipython3",
   "version": "3.7.1"
  }
 },
 "nbformat": 4,
 "nbformat_minor": 2
}
