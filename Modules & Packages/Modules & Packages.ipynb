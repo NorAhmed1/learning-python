{
 "cells": [
  {
   "cell_type": "markdown",
   "metadata": {},
   "source": [
    "Modules & Packages\n",
    "\n",
    "- PyPi is a repository for open-source third-party Python packages\n",
    "\n",
    "- Similar to RubyGems, CPAN, npm\n",
    "\n",
    "- So far we've really only used libraries that come internally with Python.\n",
    "\n",
    "- there are many other libraries available that people have open-sourced and shared on PyPi\n",
    "\n",
    "- We can use pip install at the command line to install these packages\n",
    "\n",
    "- BY installing Python from python.org or through the Anaconda distribution you've already installed pip.\n",
    "\n",
    "- pip is a simple way to download packages at your command line directly from the PyPi repository\n",
    "\n",
    "- there are packages already created for almost any use case you can think of\n",
    "\n",
    "- a quick google search will usually help you discover a link to the PyPi page for the package or for the package documentation.\n",
    "\n",
    "Let's quickly show you how to download and install external packages."
   ]
  },
  {
   "cell_type": "markdown",
   "metadata": {},
   "source": [
    "Writing your own Modules and Pacakages:\n",
    "\n",
    "1. Modules are just .py scripts that you call in another .py script\n",
    "\n",
    "2. Packages are a collections of modules"
   ]
  },
  {
   "cell_type": "markdown",
   "metadata": {},
   "source": [
    "- An often confusing part of Python is a mysterios line of code:\n",
    "\n",
    " if __name__ == \"__main__\"\n",
    "\n",
    "- Sometimes when you are importing from a module, you would like to know whether a modules function is being used an import, or if you're using the original .py file of that module."
   ]
  },
  {
   "cell_type": "code",
   "execution_count": null,
   "metadata": {},
   "outputs": [],
   "source": []
  }
 ],
 "metadata": {
  "kernelspec": {
   "display_name": "Python 3",
   "language": "python",
   "name": "python3"
  },
  "language_info": {
   "codemirror_mode": {
    "name": "ipython",
    "version": 3
   },
   "file_extension": ".py",
   "mimetype": "text/x-python",
   "name": "python",
   "nbconvert_exporter": "python",
   "pygments_lexer": "ipython3",
   "version": "3.7.1"
  }
 },
 "nbformat": 4,
 "nbformat_minor": 2
}
