{
 "cells": [
  {
   "cell_type": "markdown",
   "metadata": {},
   "source": [
    "Modules & Packages\n",
    "\n",
    "- PyPi is a repository for open-source third-party Python packages\n",
    "\n",
    "- Similar to RubyGems, CPAN, npm\n",
    "\n",
    "- So far we've really only used libraries that come internally with Python.\n",
    "\n",
    "- there are many other libraries available that people have open-sourced and shared on PyPi\n",
    "\n",
    "- We can use pip install at the command line to install these packages\n",
    "\n",
    "- BY installing Python from python.org or through the Anaconda distribution you've already installed pip.\n",
    "\n",
    "- pip is a simple way to download packages at your command line directly from the PyPi repository\n",
    "\n",
    "- there are packages already created for almost any use case you can think of\n",
    "\n",
    "- a quick google search will usually help you discover a link to the PyPi page for the package or for the package documentation.\n",
    "\n",
    "Let's quickly show you how to download and install external packages."
   ]
  }
 ],
 "metadata": {
  "kernelspec": {
   "display_name": "Python 3",
   "language": "python",
   "name": "python3"
  },
  "language_info": {
   "codemirror_mode": {
    "name": "ipython",
    "version": 3
   },
   "file_extension": ".py",
   "mimetype": "text/x-python",
   "name": "python",
   "nbconvert_exporter": "python",
   "pygments_lexer": "ipython3",
   "version": "3.7.1"
  }
 },
 "nbformat": 4,
 "nbformat_minor": 2
}
