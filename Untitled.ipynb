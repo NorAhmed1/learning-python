{
 "cells": [
  {
   "cell_type": "code",
   "execution_count": 1,
   "metadata": {},
   "outputs": [
    {
     "name": "stdout",
     "output_type": "stream",
     "text": [
      "0\n",
      "1\n",
      "2\n",
      "3\n",
      "4\n"
     ]
    }
   ],
   "source": [
    "x = 0\n",
    "\n",
    "while x < 5:\n",
    "    print (x)\n",
    "    x+=1"
   ]
  },
  {
   "cell_type": "code",
   "execution_count": 3,
   "metadata": {},
   "outputs": [
    {
     "data": {
      "text/plain": [
       "['H', 'e', 'l', 'l', 'o']"
      ]
     },
     "execution_count": 3,
     "metadata": {},
     "output_type": "execute_result"
    }
   ],
   "source": [
    "s = 'Hello'\n",
    "list(s)"
   ]
  },
  {
   "cell_type": "code",
   "execution_count": 8,
   "metadata": {},
   "outputs": [],
   "source": [
    "test = str.split(\"This is the longest sentence\")"
   ]
  },
  {
   "cell_type": "code",
   "execution_count": 12,
   "metadata": {},
   "outputs": [],
   "source": [
    "sorted_test = sorted(test, key = len)"
   ]
  },
  {
   "cell_type": "code",
   "execution_count": 13,
   "metadata": {},
   "outputs": [
    {
     "data": {
      "text/plain": [
       "['is', 'the', 'This', 'longest', 'sentence']"
      ]
     },
     "execution_count": 13,
     "metadata": {},
     "output_type": "execute_result"
    }
   ],
   "source": [
    "sorted_test"
   ]
  },
  {
   "cell_type": "code",
   "execution_count": 18,
   "metadata": {},
   "outputs": [
    {
     "name": "stdout",
     "output_type": "stream",
     "text": [
      "Time to sum an iterator: 0.081374\n",
      "Time to build and sum a list: 0.113179\n"
     ]
    }
   ],
   "source": [
    "# compares the running time of a list compared to a generator\n",
    "import time\n",
    "\n",
    "#generator function creates an iterator of odd numbers between n and m\n",
    "def oddGen(n, m):\n",
    "    while n < m:\n",
    "        yield n\n",
    "        n += 2\n",
    "\n",
    "#builds a list of odd numbers between n and m\n",
    "def oddLst(n,m):\n",
    "    lst=[]\n",
    "    while n<m:\n",
    "        lst.append(n)\n",
    "        n +=2\n",
    "        return lst\n",
    "\n",
    "#the time it takes to perform sum on an iterator\n",
    "t1=time.time()\n",
    "sum(oddGen(1,1000000))\n",
    "print(\"Time to sum an iterator: %f\" % (time.time() - t1))\n",
    "\n",
    "#the time it takes to build and sum a list\n",
    "t1=time.time()\n",
    "sum(oddLst(1,1000000))\n",
    "print(\"Time to build and sum a list: %f\" % (time.time() - t1))"
   ]
  },
  {
   "cell_type": "code",
   "execution_count": 19,
   "metadata": {},
   "outputs": [],
   "source": [
    "def fibonacci(n):\n",
    "    curr = 1\n",
    "    prev = 0\n",
    "    counter = 0\n",
    "    while counter < n:\n",
    "        yield curr\n",
    "        prev, curr = curr, prev + curr\n",
    "        counter += 1"
   ]
  }
 ],
 "metadata": {
  "kernelspec": {
   "display_name": "Python 3",
   "language": "python",
   "name": "python3"
  },
  "language_info": {
   "codemirror_mode": {
    "name": "ipython",
    "version": 3
   },
   "file_extension": ".py",
   "mimetype": "text/x-python",
   "name": "python",
   "nbconvert_exporter": "python",
   "pygments_lexer": "ipython3",
   "version": "3.7.1"
  }
 },
 "nbformat": 4,
 "nbformat_minor": 2
}
