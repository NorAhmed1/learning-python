{
 "cells": [
  {
   "cell_type": "markdown",
   "metadata": {
    "collapsed": true
   },
   "source": [
    "# Statements Assessment Test\n",
    "Let's test your knowledge!"
   ]
  },
  {
   "cell_type": "markdown",
   "metadata": {},
   "source": [
    "_____\n",
    "**Use <code>for</code>, .split(), and <code>if</code> to create a Statement that will print out words that start with 's':**"
   ]
  },
  {
   "cell_type": "code",
   "execution_count": 38,
   "metadata": {},
   "outputs": [],
   "source": [
    "st = 'Print only the words that start with s in this sentence'"
   ]
  },
  {
   "cell_type": "code",
   "execution_count": 39,
   "metadata": {},
   "outputs": [
    {
     "name": "stdout",
     "output_type": "stream",
     "text": [
      "start\n",
      "s\n",
      "sentence\n"
     ]
    }
   ],
   "source": [
    "for word in st.split():\n",
    "    if word[0].lower() == 's':\n",
    "        print(word)"
   ]
  },
  {
   "cell_type": "markdown",
   "metadata": {},
   "source": [
    "______\n",
    "**Use range() to print all the even numbers from 0 to 10.**"
   ]
  },
  {
   "cell_type": "code",
   "execution_count": 42,
   "metadata": {},
   "outputs": [],
   "source": [
    "#Code Here\n",
    "even = [num for num in range(0,11) if num%2 == 0]"
   ]
  },
  {
   "cell_type": "code",
   "execution_count": 16,
   "metadata": {},
   "outputs": [
    {
     "data": {
      "text/plain": [
       "[0, 2, 4, 6, 8]"
      ]
     },
     "execution_count": 16,
     "metadata": {},
     "output_type": "execute_result"
    }
   ],
   "source": [
    "even"
   ]
  },
  {
   "cell_type": "code",
   "execution_count": 40,
   "metadata": {},
   "outputs": [
    {
     "data": {
      "text/plain": [
       "[0, 2, 4, 6, 8, 10]"
      ]
     },
     "execution_count": 40,
     "metadata": {},
     "output_type": "execute_result"
    }
   ],
   "source": [
    "list(range(0,11,2))"
   ]
  },
  {
   "cell_type": "code",
   "execution_count": 41,
   "metadata": {},
   "outputs": [
    {
     "name": "stdout",
     "output_type": "stream",
     "text": [
      "0\n",
      "2\n",
      "4\n",
      "6\n",
      "8\n",
      "10\n"
     ]
    }
   ],
   "source": [
    "for num in range(0,11):\n",
    "    if num % 2 == 0:\n",
    "        print(num)"
   ]
  },
  {
   "cell_type": "markdown",
   "metadata": {},
   "source": [
    "___\n",
    "**Use a List Comprehension to create a list of all numbers between 1 and 50 that are divisible by 3.**"
   ]
  },
  {
   "cell_type": "code",
   "execution_count": 23,
   "metadata": {},
   "outputs": [],
   "source": [
    "#Code in this cell\n",
    "div_by_3 = [num for num in range (1,51) if num % 3 == 0]"
   ]
  },
  {
   "cell_type": "code",
   "execution_count": 24,
   "metadata": {},
   "outputs": [
    {
     "data": {
      "text/plain": [
       "[3, 6, 9, 12, 15, 18, 21, 24, 27, 30, 33, 36, 39, 42, 45, 48]"
      ]
     },
     "execution_count": 24,
     "metadata": {},
     "output_type": "execute_result"
    }
   ],
   "source": [
    "div_by_3"
   ]
  },
  {
   "cell_type": "markdown",
   "metadata": {},
   "source": [
    "_____\n",
    "**Go through the string below and if the length of a word is even print \"even!\"**"
   ]
  },
  {
   "cell_type": "code",
   "execution_count": 26,
   "metadata": {},
   "outputs": [],
   "source": [
    "st = 'Print every word in this sentence that has an even number of letters'"
   ]
  },
  {
   "cell_type": "code",
   "execution_count": 27,
   "metadata": {},
   "outputs": [
    {
     "name": "stdout",
     "output_type": "stream",
     "text": [
      "word\n",
      "in\n",
      "this\n",
      "sentence\n",
      "that\n",
      "an\n",
      "even\n",
      "number\n",
      "of\n"
     ]
    }
   ],
   "source": [
    "#Code in this cell\n",
    "\n",
    "for words in st.split():\n",
    "    if len(words) % 2 == 0:\n",
    "        print (words)"
   ]
  },
  {
   "cell_type": "markdown",
   "metadata": {},
   "source": [
    "____\n",
    "**Write a program that prints the integers from 1 to 100. But for multiples of three print \"Fizz\" instead of the number, and for the multiples of five print \"Buzz\". For numbers which are multiples of both three and five print \"FizzBuzz\".**"
   ]
  },
  {
   "cell_type": "code",
   "execution_count": 30,
   "metadata": {},
   "outputs": [
    {
     "name": "stdout",
     "output_type": "stream",
     "text": [
      "1 is neither divisible by 3/5.\n",
      "2 is neither divisible by 3/5.\n",
      "Fizz\n",
      "4 is neither divisible by 3/5.\n",
      "Buzz\n",
      "Fizz\n",
      "7 is neither divisible by 3/5.\n",
      "8 is neither divisible by 3/5.\n",
      "Fizz\n",
      "Buzz\n",
      "11 is neither divisible by 3/5.\n",
      "Fizz\n",
      "13 is neither divisible by 3/5.\n",
      "14 is neither divisible by 3/5.\n",
      "Fizzbuzz\n",
      "16 is neither divisible by 3/5.\n",
      "17 is neither divisible by 3/5.\n",
      "Fizz\n",
      "19 is neither divisible by 3/5.\n",
      "Buzz\n",
      "Fizz\n",
      "22 is neither divisible by 3/5.\n",
      "23 is neither divisible by 3/5.\n",
      "Fizz\n",
      "Buzz\n",
      "26 is neither divisible by 3/5.\n",
      "Fizz\n",
      "28 is neither divisible by 3/5.\n",
      "29 is neither divisible by 3/5.\n",
      "Fizzbuzz\n",
      "31 is neither divisible by 3/5.\n",
      "32 is neither divisible by 3/5.\n",
      "Fizz\n",
      "34 is neither divisible by 3/5.\n",
      "Buzz\n",
      "Fizz\n",
      "37 is neither divisible by 3/5.\n",
      "38 is neither divisible by 3/5.\n",
      "Fizz\n",
      "Buzz\n",
      "41 is neither divisible by 3/5.\n",
      "Fizz\n",
      "43 is neither divisible by 3/5.\n",
      "44 is neither divisible by 3/5.\n",
      "Fizzbuzz\n",
      "46 is neither divisible by 3/5.\n",
      "47 is neither divisible by 3/5.\n",
      "Fizz\n",
      "49 is neither divisible by 3/5.\n",
      "Buzz\n",
      "Fizz\n",
      "52 is neither divisible by 3/5.\n",
      "53 is neither divisible by 3/5.\n",
      "Fizz\n",
      "Buzz\n",
      "56 is neither divisible by 3/5.\n",
      "Fizz\n",
      "58 is neither divisible by 3/5.\n",
      "59 is neither divisible by 3/5.\n",
      "Fizzbuzz\n",
      "61 is neither divisible by 3/5.\n",
      "62 is neither divisible by 3/5.\n",
      "Fizz\n",
      "64 is neither divisible by 3/5.\n",
      "Buzz\n",
      "Fizz\n",
      "67 is neither divisible by 3/5.\n",
      "68 is neither divisible by 3/5.\n",
      "Fizz\n",
      "Buzz\n",
      "71 is neither divisible by 3/5.\n",
      "Fizz\n",
      "73 is neither divisible by 3/5.\n",
      "74 is neither divisible by 3/5.\n",
      "Fizzbuzz\n",
      "76 is neither divisible by 3/5.\n",
      "77 is neither divisible by 3/5.\n",
      "Fizz\n",
      "79 is neither divisible by 3/5.\n",
      "Buzz\n",
      "Fizz\n",
      "82 is neither divisible by 3/5.\n",
      "83 is neither divisible by 3/5.\n",
      "Fizz\n",
      "Buzz\n",
      "86 is neither divisible by 3/5.\n",
      "Fizz\n",
      "88 is neither divisible by 3/5.\n",
      "89 is neither divisible by 3/5.\n",
      "Fizzbuzz\n",
      "91 is neither divisible by 3/5.\n",
      "92 is neither divisible by 3/5.\n",
      "Fizz\n",
      "94 is neither divisible by 3/5.\n",
      "Buzz\n",
      "Fizz\n",
      "97 is neither divisible by 3/5.\n",
      "98 is neither divisible by 3/5.\n",
      "Fizz\n",
      "Buzz\n"
     ]
    }
   ],
   "source": [
    "#Code in this cell\n",
    "\n",
    "for integer in range(1,101):\n",
    "    if integer % 3 == 0 and integer % 5 == 0:\n",
    "        print (\"Fizzbuzz\")\n",
    "    elif integer % 3 == 0:\n",
    "        print(\"Fizz\")\n",
    "    elif integer % 5 == 0:\n",
    "        print(\"Buzz\")\n",
    "    else:\n",
    "        print(f\"{integer} is neither divisible by 3/5.\")\n",
    "#multiples of 3 & 5 print \"FizzBuzz\"\n",
    "#multiples of 3 print \"Fizz\"\n",
    "#multiples of 5 print \"Buzz\""
   ]
  },
  {
   "cell_type": "markdown",
   "metadata": {},
   "source": [
    "____\n",
    "**Use List Comprehension to create a list of the first letters of every word in the string below:**"
   ]
  },
  {
   "cell_type": "code",
   "execution_count": 31,
   "metadata": {},
   "outputs": [],
   "source": [
    "st = 'Create a list of the first letters of every word in this string'"
   ]
  },
  {
   "cell_type": "code",
   "execution_count": 35,
   "metadata": {},
   "outputs": [],
   "source": [
    "#Code in this cell\n",
    "first_letter = [word[0] for word in st.split()]\n",
    "\n",
    "# for word in st.split():\n",
    "#     print(word[0])"
   ]
  },
  {
   "cell_type": "code",
   "execution_count": 36,
   "metadata": {},
   "outputs": [
    {
     "data": {
      "text/plain": [
       "['C', 'a', 'l', 'o', 't', 'f', 'l', 'o', 'e', 'w', 'i', 't', 's']"
      ]
     },
     "execution_count": 36,
     "metadata": {},
     "output_type": "execute_result"
    }
   ],
   "source": [
    "first_letter"
   ]
  },
  {
   "cell_type": "markdown",
   "metadata": {},
   "source": [
    "### Great Job!"
   ]
  }
 ],
 "metadata": {
  "kernelspec": {
   "display_name": "Python 3",
   "language": "python",
   "name": "python3"
  },
  "language_info": {
   "codemirror_mode": {
    "name": "ipython",
    "version": 3
   },
   "file_extension": ".py",
   "mimetype": "text/x-python",
   "name": "python",
   "nbconvert_exporter": "python",
   "pygments_lexer": "ipython3",
   "version": "3.7.1"
  }
 },
 "nbformat": 4,
 "nbformat_minor": 1
}
