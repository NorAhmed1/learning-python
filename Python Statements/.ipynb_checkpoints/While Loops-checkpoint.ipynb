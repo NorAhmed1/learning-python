{
 "cells": [
  {
   "cell_type": "markdown",
   "metadata": {},
   "source": [
    "While Loops continue to execute a block of code while some condition remains True.\n",
    "\n",
    "Syntax:\n",
    "\n",
    "while some_boolean_condition:\n",
    "#do_something\n",
    "\n",
    "else:\n",
    "#something different"
   ]
  },
  {
   "cell_type": "code",
   "execution_count": null,
   "metadata": {},
   "outputs": [],
   "source": [
    "x = 0\n",
    "\n",
    "while x < 5:\n",
    "    print(f'{x} is less than 5.')\n",
    "    x += 1\n",
    "else:\n",
    "    print (f'{x} is 5')"
   ]
  },
  {
   "cell_type": "markdown",
   "metadata": {},
   "source": [
    "break, continue, pass\n",
    "\n",
    "1. break: breaks out of the current closest enclosing loop.\n",
    "2. continue: goes to the top of the closest enclosing loop.\n",
    "3. pass: Does nothing at all."
   ]
  },
  {
   "cell_type": "code",
   "execution_count": null,
   "metadata": {},
   "outputs": [],
   "source": [
    "x = 'Hello World'\n",
    "\n",
    "for letter in x:\n",
    "    pass"
   ]
  },
  {
   "cell_type": "code",
   "execution_count": null,
   "metadata": {},
   "outputs": [],
   "source": [
    "for letter in x:\n",
    "    if letter == 'e':\n",
    "        continue\n",
    "    print (letter)"
   ]
  },
  {
   "cell_type": "code",
   "execution_count": null,
   "metadata": {},
   "outputs": [],
   "source": [
    "for letter in x:\n",
    "    if letter == 'e':\n",
    "        break\n",
    "    print(letter)"
   ]
  },
  {
   "cell_type": "code",
   "execution_count": 1,
   "metadata": {},
   "outputs": [
    {
     "name": "stdout",
     "output_type": "stream",
     "text": [
      "0\n",
      "1\n",
      "2\n",
      "3\n",
      "4\n"
     ]
    }
   ],
   "source": [
    "x = 0\n",
    "\n",
    "while x < 5:\n",
    "    print (x)\n",
    "    x += 1\n",
    "    if x == 4:\n",
    "        continue"
   ]
  },
  {
   "cell_type": "code",
   "execution_count": 5,
   "metadata": {},
   "outputs": [
    {
     "name": "stdout",
     "output_type": "stream",
     "text": [
      "0 is still less than 10. adding 1 to 0\n",
      "1 is still less than 10. adding 1 to 1\n",
      "2 is still less than 10. adding 1 to 2\n",
      "x is 3\n",
      "3 is still less than 10. adding 1 to 3\n",
      "4 is still less than 10. adding 1 to 4\n",
      "5 is still less than 10. adding 1 to 5\n",
      "6 is still less than 10. adding 1 to 6\n",
      "7 is still less than 10. adding 1 to 7\n",
      "8 is still less than 10. adding 1 to 8\n",
      "9 is still less than 10. adding 1 to 9\n"
     ]
    }
   ],
   "source": [
    "x = 0\n",
    "\n",
    "while x < 10:\n",
    "    print (f'{x} is still less than 10. adding 1 to {x}')\n",
    "    x += 1\n",
    "    if x == 3:\n",
    "        print ('x is 3')\n",
    "        pass"
   ]
  }
 ],
 "metadata": {
  "kernelspec": {
   "display_name": "Python 3",
   "language": "python",
   "name": "python3"
  },
  "language_info": {
   "codemirror_mode": {
    "name": "ipython",
    "version": 3
   },
   "file_extension": ".py",
   "mimetype": "text/x-python",
   "name": "python",
   "nbconvert_exporter": "python",
   "pygments_lexer": "ipython3",
   "version": "3.7.1"
  }
 },
 "nbformat": 4,
 "nbformat_minor": 2
}
