{
 "cells": [
  {
   "cell_type": "markdown",
   "metadata": {},
   "source": [
    "Syntax:\n",
    "if some_condition:\n",
    "    #execute some code\n",
    "elif some_other_condition:\n",
    "    #do something different\n",
    "else:\n",
    "    #do soemthing else"
   ]
  },
  {
   "cell_type": "code",
   "execution_count": 2,
   "metadata": {},
   "outputs": [
    {
     "name": "stdout",
     "output_type": "stream",
     "text": [
      "What is your location?\n"
     ]
    }
   ],
   "source": [
    "loc = ''\n",
    "\n",
    "if loc == 'Bank':\n",
    "    print('Deposit money')\n",
    "elif loc == 'Auto Shop':\n",
    "    print('Get your bike serviced here!')\n",
    "else:\n",
    "    print('What is your location?')"
   ]
  },
  {
   "cell_type": "code",
   "execution_count": 3,
   "metadata": {},
   "outputs": [
    {
     "name": "stdout",
     "output_type": "stream",
     "text": [
      "What is your name?\n"
     ]
    }
   ],
   "source": [
    "name = ''\n",
    "\n",
    "if name == 'Jose':\n",
    "    print('Hi, Jose.')\n",
    "elif name == 'Eric':\n",
    "    print('Hi Eric!')\n",
    "else:\n",
    "    print('What is your name?')"
   ]
  }
 ],
 "metadata": {
  "kernelspec": {
   "display_name": "Python 3",
   "language": "python",
   "name": "python3"
  },
  "language_info": {
   "codemirror_mode": {
    "name": "ipython",
    "version": 3
   },
   "file_extension": ".py",
   "mimetype": "text/x-python",
   "name": "python",
   "nbconvert_exporter": "python",
   "pygments_lexer": "ipython3",
   "version": "3.7.1"
  }
 },
 "nbformat": 4,
 "nbformat_minor": 2
}
